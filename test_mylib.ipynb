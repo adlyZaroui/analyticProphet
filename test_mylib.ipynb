{
 "cells": [
  {
   "cell_type": "code",
   "execution_count": 3,
   "metadata": {},
   "outputs": [
    {
     "name": "stdout",
     "output_type": "stream",
     "text": [
      "Result of add: 5.0\n"
     ]
    }
   ],
   "source": [
    "import ctypes\n",
    "import os\n",
    "\n",
    "# Load the shared library\n",
    "if os.name == 'nt':  # Windows\n",
    "    lib = ctypes.CDLL('mylib.dll')\n",
    "else:  # Linux/macOS\n",
    "    lib = ctypes.CDLL('./libmylib.so')\n",
    "\n",
    "# Define the function prototype\n",
    "lib.add.argtypes = [ctypes.c_double, ctypes.c_double]\n",
    "lib.add.restype = ctypes.c_double\n",
    "\n",
    "# Call the function\n",
    "result = lib.add(2.0, 3.0)\n",
    "print(f\"Result of add: {result}\")\n",
    "\n",
    "python_add = lambda x, y: x + y"
   ]
  },
  {
   "cell_type": "code",
   "execution_count": 5,
   "metadata": {},
   "outputs": [
    {
     "name": "stdout",
     "output_type": "stream",
     "text": [
      "The slowest run took 40.56 times longer than the fastest. This could mean that an intermediate result is being cached.\n",
      "11 µs ± 10.7 µs per loop (mean ± std. dev. of 10 runs, 10 loops each)\n"
     ]
    }
   ],
   "source": [
    "%%timeit -r 10 -n 10\n",
    "\n",
    "result = lib.add(2.0, 3.0)"
   ]
  },
  {
   "cell_type": "code",
   "execution_count": 6,
   "metadata": {},
   "outputs": [
    {
     "name": "stdout",
     "output_type": "stream",
     "text": [
      "84.2 ns ± 44.6 ns per loop (mean ± std. dev. of 10 runs, 10 loops each)\n"
     ]
    }
   ],
   "source": [
    "%%timeit -r 10 -n 10\n",
    "\n",
    "result = python_add(2.0, 3.0)"
   ]
  },
  {
   "cell_type": "code",
   "execution_count": null,
   "metadata": {},
   "outputs": [],
   "source": []
  }
 ],
 "metadata": {
  "kernelspec": {
   "display_name": ".venv",
   "language": "python",
   "name": "python3"
  },
  "language_info": {
   "codemirror_mode": {
    "name": "ipython",
    "version": 3
   },
   "file_extension": ".py",
   "mimetype": "text/x-python",
   "name": "python",
   "nbconvert_exporter": "python",
   "pygments_lexer": "ipython3",
   "version": "3.12.2"
  }
 },
 "nbformat": 4,
 "nbformat_minor": 2
}
